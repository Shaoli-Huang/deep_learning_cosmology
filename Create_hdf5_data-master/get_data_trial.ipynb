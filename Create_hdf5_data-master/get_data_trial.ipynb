{
 "cells": [
  {
   "cell_type": "code",
   "execution_count": 23,
   "metadata": {
    "collapsed": false
   },
   "outputs": [
    {
     "name": "stdout",
     "output_type": "stream",
     "text": [
      "exiting Iteration 1\n",
      "exiting Iteration 2\n",
      "exiting Iteration 3\n",
      "exiting Iteration 4\n",
      "exiting Iteration 5\n",
      "exiting Iteration 6\n",
      "exiting Iteration 7\n",
      "exiting Iteration 8\n",
      "exiting Iteration 9\n",
      "exiting Iteration 10\n",
      "exiting Iteration 11\n",
      "exiting Iteration 12\n",
      "exiting Iteration 13\n",
      "exiting Iteration 14\n",
      "exiting Iteration 15\n",
      "exiting Iteration 16\n",
      "exiting Iteration 17\n",
      "exiting Iteration 18\n",
      "exiting Iteration 19\n",
      "exiting Iteration 20\n",
      "[[-0.01032324  0.00679525  0.0022744  ...,  0.03324072  0.00723581\n",
      "  -0.02659455]\n",
      " [-0.00930681 -0.0276424  -0.0210422  ...,  0.0203146   0.0402362\n",
      "   0.02766863]\n",
      " [ 0.0404234   0.04943935  0.03146164 ..., -0.01016859 -0.01045878\n",
      "  -0.01592986]\n",
      " ..., \n",
      " [ 0.0029256  -0.02386375 -0.00324347 ..., -0.04425264 -0.02313163\n",
      "  -0.02573276]\n",
      " [-0.01500749 -0.0221155  -0.01403204 ..., -0.01433667  0.00397388\n",
      "   0.00218675]\n",
      " [ 0.00461837 -0.00311765  0.02408315 ..., -0.0303237  -0.01631808\n",
      "  -0.01267119]]\n",
      "(20, 1048576)\n",
      "Mean =  5.37609763951e-05\n",
      "Min =  -0.0912794694304\n",
      "Max =  1.32489430904\n",
      "Creating h5py data files and saving to ./data/conv_z02.h5 .........\n"
     ]
    }
   ],
   "source": [
    "#### need to module load python/2.7-anaconda\n",
    "from astropy.io import fits\n",
    "from scipy import misc\n",
    "import numpy as np\n",
    "import os\n",
    "import matplotlib \n",
    "from matplotlib import pyplot as plt\n",
    "import pickle, gzip\n",
    "import h5py\n",
    "\n",
    "# Debbie Dirs \n",
    "dataurl_deb = \"/global/homes/d/djbard/project_lsst/m-series/m-512b240_Om0.260_Ol0.740_w-1.000_ns0.960_si0.798/\"\n",
    "\n",
    "# Dir urls on srcatch and local host for m-series z=2 \n",
    "dataurl_from_scratch_dir = \"/global/cscratch1/sd/ssingh79/m-series/m-512b240_Om0.260_Ol0.740_w-1.000_ns0.960_si0.798/\"\n",
    "dataurl_from_local_dir = \"/Users/ssingh79/Downloads/DeepLearningTutorials-master/data/m-series/m-512b240_Om0.260_Ol0.740_w-1.000_ns0.960_si0.798/\"\n",
    "dataurl_from_homes_dir = \"/global/homes/s/ssingh79/data/\"\n",
    "base_filename = \"fico_0200z_conv_\"\n",
    "\n",
    "ouptut_data_dir = \"\"\n",
    "\n",
    "def create_png_from_fits():\n",
    "    for i in range(1,1001):\n",
    "        if i<10:\n",
    "            num = \"000\"+str(i)\n",
    "        elif i<100:\n",
    "            num=\"00\"+str(i)\n",
    "        elif i<1000:\n",
    "            num = \"0\"+str(i)\n",
    "        elif i==1000:\n",
    "            num = str(i)\n",
    "        else:\n",
    "            print(\"gah!\") \n",
    "              \n",
    "        filepath = os.path.join(dataurl_from_local_dir,base_filename + str(num) + \".fit\")\n",
    "        #print(filepath)\n",
    "        hdulist = fits.open(filepath)\n",
    "\n",
    "        image = hdulist[0].data\n",
    "        \n",
    "        # I'm using the max/min pixel values -0.102/1.6, so that I'm making a consistent greyscale across the cosmologies. This covers everything at z=2. \n",
    "        misc.toimage(image, cmin=-0.102, cmax=1.6).save(\"fico-gifs/fico_0200z_conv_\"+num+\".png\", )\n",
    "\n",
    "def create_numpy_from_fits(): \n",
    "\n",
    "    # Create a numpy array to store images (numpy ndarray)\n",
    "    # Initialize space for the numpy ndarray \n",
    "    image_dim = 1024*1024\n",
    "    sample_size = 1000\n",
    "    #flatten_images = np.zeros((sample_size, image_dim), dtype= 'float')\n",
    "    \n",
    "    flatten_images = np.zeros((1,1024*1024))\n",
    "    \n",
    "    for i in range(1,1001):\n",
    "        if i<10:\n",
    "            num = \"000\"+str(i)\n",
    "        elif i<100:\n",
    "            num=\"00\"+str(i)\n",
    "        elif i<1000:\n",
    "            num = \"0\"+str(i)\n",
    "        elif i==1000:\n",
    "            num = str(i)\n",
    "        else:\n",
    "            print(\"gah!\") \n",
    "                  \n",
    "        filepath = os.path.join(dataurl_from_homes_dir, base_filename + num + \".fit\")\n",
    "        #print(filepath)\n",
    "        hdulist = fits.open(filepath)\n",
    "\n",
    "        image = hdulist[0].data\n",
    "        # Check type of values\n",
    "        #print(image)\n",
    "        #print(image.shape)\n",
    "        #print(image.dtype)\n",
    "            \n",
    "        reshaped_image = np.reshape(image,(1,1024*1024))\n",
    "        #print(reshaped_image)\n",
    "        \n",
    "        #image is a temporary numpy array which is to copied in every iteration as a row in flatten_image\n",
    "        #image has dimension 1024 X 1024 its a 2D array, You want to reshape it to just a row!\n",
    "        # After which you need to append.\n",
    "    \n",
    "        flatten_images = np.vstack((flatten_images , reshaped_image))\n",
    "        #print(flatten_images)\n",
    "        print(\"exiting Iteration\", i)\n",
    "    \n",
    "    #Delete the first row initialization with 0 done before. \n",
    "    flatten_images = np.delete(flatten_images,(0),axis=0)\n",
    "    \n",
    "    print(flatten_images)\n",
    "    print(flatten_images.shape)\n",
    "    \n",
    "    #Find the mean, min and max values in the dataset. \n",
    "    print(\"Mean = \", np.mean(flatten_images))\n",
    "    print(\"Min = \", np.min(flatten_images))\n",
    "    print(\"Max = \" , np.max(flatten_images))\n",
    "    \n",
    "    #Visulaize the very last image in the dataset. \n",
    "    #%matplotlib inline\n",
    "    #plt.imshow(image,interpolation='None')\n",
    "    #plt.colorbar()\n",
    "    \n",
    "    return flatten_images\n",
    "\n",
    "def normalize_data():\n",
    "    #This normalizes the data between [-1, 1]\n",
    "    # A two step process which includes calculating the mean difference and then normalizing by \n",
    "    # known standard formulae. \n",
    "    flattened_images = create_numpy_from_fits()\n",
    "    data_min = np.min(flattened_images) \n",
    "    data_max = np.max(flattened_images) \n",
    "    data_mean = np.mean(flattened_images) \n",
    "    \n",
    "    print(np.mean(flattened_images))\n",
    "    print(np.min(flattened_images))\n",
    "    print(np.max(flattened_images))\n",
    "\n",
    "def create_h5py_dataset():\n",
    "    \n",
    "    flattened_images = create_numpy_from_fits()\n",
    "    \n",
    "    # Create h5py data files \n",
    "    with h5py.File('/global/homes/s/ssingh79/data/conv_z02.h5','w') as hf:\n",
    "        # X_train is the training set needed for unsupervised learning. \n",
    "       \n",
    "        print(\"Creating h5py data files and saving to ./data/conv_z02.h5 .........\")\n",
    "        hf.create_dataset('X_train', data = flattened_images) \n",
    "        \n",
    "def read_h5py_dataset(): \n",
    "    \n",
    "    with h5py.File('conv_z02.h5', 'r') as hf:\n",
    "        #print(hf.keys())\n",
    "        print(\"Reading conv_z02.h5 ...........\")\n",
    "        X_train = hf['X_train'][0:1000, 0:1048576]\n",
    "        print(\"h5py shape \", X_train.shape)\n",
    "        \n",
    "        print(\"Training Data: \", X_train)\n",
    "    \n",
    "def pickle_dataset(): \n",
    "\n",
    "    flattened_images = create_numpy_from_fits()\n",
    "    print(\"Flattened Images: \", flattened_images)\n",
    "    \n",
    "    #Pickle dataset with HIGHEST_PROTOCOL\n",
    "    print(\"Pickling Dataset...\")\n",
    "    with open(\"/global/homes/s/ssingh79/data/conv_02z_data.pkl\",\"wb\") as f_pkl:\n",
    "        pickle.dump(flattened_images, f_pkl, protocol=pickle.HIGHEST_PROTOCOL)\n",
    "    print(\"Done pickling!\")\n",
    "    \n",
    "    #with gzip.open(\"/global/homes/s/ssingh79/data/conv_02z_data.pkl.gz\",\"wb\") as f_pklgz:\n",
    "    #    pickle.dump(flattened_images, f_pklgz, protocol=pickle.HIGHEST_PROTOCOL)\n",
    "    \n",
    "def unpickle_dataset():\n",
    "    #Load dataset from pickle files\n",
    "    with open(\"/global/homes/s/ssingh79/data/conv_02z_data.pkl\",\"rb\") as f:\n",
    "        print(\"Loading unpickled data...\")\n",
    "        train_set = pickle.load(f, encoding=\"UTF-8\")\n",
    "        print(train_set)\n",
    "        \n",
    "        unpickled_image = np.reshape(train_set[0],(1024,1024))\n",
    "        print(\"Reshaped image\", unpickled_image)\n",
    "        %matplotlib inline\n",
    "        plt.imshow(unpickled_image, interpolation='None')\n",
    "        plt.colorbar()\n",
    "    \n",
    "# To get Images in png format Uncomment this:\n",
    "#create_png_from_fits()\n",
    "\n",
    "# Run command to get a pickle gzip dataset desired for Training. \n",
    "#pickle_dataset()\n",
    "#unpickle_dataset()\n",
    "\n",
    "#Run command to get h5py files.\n",
    "create_h5py_dataset()\n",
    "\n",
    "\n",
    "'''\n",
    "#### need to module load python/2.7-anaconda\n",
    "\n",
    "from scipy import ndimage\n",
    "from astropy.io import fits\n",
    "import numpy as np\n",
    "\n",
    "\n",
    "for i in range(1,1001):\n",
    "    \n",
    "    if i<10:\n",
    "        num = \"000\"+str(i)\n",
    "    elif i<100:\n",
    "        num=\"00\"+str(i)\n",
    "    elif i<1000:\n",
    "        num = \"0\"+str(i)\n",
    "    elif i==1000:\n",
    "        num = str(i)\n",
    "    else:\n",
    "        print \"gah!\"\n",
    "        \n",
    "    #if i==156:\n",
    "    #    continue\n",
    "\n",
    "    hdulist = fits.open(\"m-512b240_Om0.260_Ol0.740_w-1.000_ns0.960_si0.798/fico_0200z_conv_\"+num+\".fit\") \n",
    "    image = hdulist[0].data\n",
    "    \n",
    "    ## smooth with Gaussian filter of radius 2pix for both axes\n",
    "    rad = 2\n",
    "    filtered = ndimage.gaussian_filter(image, rad)\n",
    "\n",
    "    ## make new numpy array of the smoothed image\n",
    "    hdu = fits.PrimaryHDU(filtered)\n",
    "\n",
    "'''\n"
   ]
  },
  {
   "cell_type": "code",
   "execution_count": 11,
   "metadata": {
    "collapsed": false
   },
   "outputs": [
    {
     "data": {
      "text/plain": [
       "<matplotlib.colorbar.Colorbar at 0x7f6818a76390>"
      ]
     },
     "execution_count": 11,
     "metadata": {},
     "output_type": "execute_result"
    },
    {
     "data": {
      "image/png": "[encoded data removed]",
      "text/plain": [
       "<matplotlib.figure.Figure at 0x7f6819d7db70>"
      ]
     },
     "metadata": {},
     "output_type": "display_data"
    }
   ],
   "source": [
    "from astropy.io import fits\n",
    "import matplotlib \n",
    "from matplotlib import pyplot as plt\n",
    "\n",
    "hdulist = fits.open(\"/global/homes/s/ssingh79/data/fico_0200z_conv_0001.fit\")\n",
    "image = hdulist[0].data\n",
    "\n",
    "%matplotlib inline\n",
    "plt.subplot(121)\n",
    "plt.imshow(image,interpolation='None')\n",
    "plt.colorbar()\n",
    "plt.subplot(122)\n",
    "plt.imshow(image,interpolation='None')\n",
    "plt.colorbar()\n"
   ]
  },
  {
   "cell_type": "code",
   "execution_count": 3,
   "metadata": {
    "collapsed": true
   },
   "outputs": [],
   "source": [
    "import numpy as np"
   ]
  },
  {
   "cell_type": "code",
   "execution_count": 5,
   "metadata": {
    "collapsed": false
   },
   "outputs": [
    {
     "data": {
      "text/plain": [
       "-0.082570835947990417"
      ]
     },
     "execution_count": 5,
     "metadata": {},
     "output_type": "execute_result"
    }
   ],
   "source": [
    "np.min(image)"
   ]
  },
  {
   "cell_type": "code",
   "execution_count": 18,
   "metadata": {
    "collapsed": false
   },
   "outputs": [],
   "source": [
    "a = np.ones((15,100))\n",
    "b = np.zeros((1,100))"
   ]
  },
  {
   "cell_type": "code",
   "execution_count": 19,
   "metadata": {
    "collapsed": true
   },
   "outputs": [],
   "source": [
    "a = np.vstack((a,b))"
   ]
  },
  {
   "cell_type": "code",
   "execution_count": 20,
   "metadata": {
    "collapsed": false
   },
   "outputs": [
    {
     "data": {
      "text/plain": [
       "(16, 100)"
      ]
     },
     "execution_count": 20,
     "metadata": {},
     "output_type": "execute_result"
    }
   ],
   "source": [
    "a.shape"
   ]
  },
  {
   "cell_type": "code",
   "execution_count": 21,
   "metadata": {
    "collapsed": true
   },
   "outputs": [],
   "source": [
    "c = np.zeros((3,100))"
   ]
  },
  {
   "cell_type": "code",
   "execution_count": 22,
   "metadata": {
    "collapsed": true
   },
   "outputs": [],
   "source": [
    "a = np.vstack((a,c))"
   ]
  },
  {
   "cell_type": "code",
   "execution_count": 24,
   "metadata": {
    "collapsed": false
   },
   "outputs": [
    {
     "data": {
      "text/plain": [
       "(19, 100)"
      ]
     },
     "execution_count": 24,
     "metadata": {},
     "output_type": "execute_result"
    }
   ],
   "source": [
    "a.shape"
   ]
  },
  {
   "cell_type": "code",
   "execution_count": 4,
   "metadata": {
    "collapsed": false
   },
   "outputs": [
    {
     "name": "stdout",
     "output_type": "stream",
     "text": [
      "a= 10\n"
     ]
    }
   ],
   "source": [
    "a =10 \n",
    "print(\"a=\",a)\n"
   ]
  },
  {
   "cell_type": "code",
   "execution_count": 7,
   "metadata": {
    "collapsed": true
   },
   "outputs": [],
   "source": [
    "import sklearn"
   ]
  },
  {
   "cell_type": "code",
   "execution_count": 9,
   "metadata": {
    "collapsed": true
   },
   "outputs": [],
   "source": [
    "from sklearn import preprocessing\n",
    "import numpy as np \n",
    "\n"
   ]
  },
  {
   "cell_type": "code",
   "execution_count": 5,
   "metadata": {
    "collapsed": false
   },
   "outputs": [
    {
     "name": "stdout",
     "output_type": "stream",
     "text": [
      "[ 0.  0.  0.  0.  0.  0.  0.  0.  0.  0.]\n",
      "[ 1.  1.  1.  1.  1.  1.  1.  1.  1.  1.]\n"
     ]
    }
   ],
   "source": [
    "import numpy as np \n",
    "m = np.zeros((1, 10))\n",
    "n = np.ones((5, 10))\n",
    "\n",
    "p = np.vstack((m,n))\n",
    "print(p[0])\n",
    "q = np.delete(p,(0),axis=0)\n",
    "\n",
    "print(q[0])"
   ]
  },
  {
   "cell_type": "code",
   "execution_count": 14,
   "metadata": {
    "collapsed": false
   },
   "outputs": [
    {
     "data": {
      "text/plain": [
       "array([[ 1.,  1.,  1.,  1.,  1.,  1.,  1.,  1.,  1.,  1.],\n",
       "       [ 1.,  1.,  1.,  1.,  1.,  1.,  1.,  1.,  1.,  1.],\n",
       "       [ 1.,  1.,  1.,  1.,  1.,  1.,  1.,  1.,  1.,  1.],\n",
       "       [ 1.,  1.,  1.,  1.,  1.,  1.,  1.,  1.,  1.,  1.],\n",
       "       [ 1.,  1.,  1.,  1.,  1.,  1.,  1.,  1.,  1.,  1.]])"
      ]
     },
     "execution_count": 14,
     "metadata": {},
     "output_type": "execute_result"
    }
   ],
   "source": [
    "q"
   ]
  },
  {
   "cell_type": "code",
   "execution_count": 9,
   "metadata": {
    "collapsed": false
   },
   "outputs": [
    {
     "data": {
      "text/plain": [
       "array([[ 1.,  1.,  1.,  1.,  1.,  1.,  1.,  1.,  1.,  1.],\n",
       "       [ 1.,  1.,  1.,  1.,  1.,  1.,  1.,  1.,  1.,  1.],\n",
       "       [ 1.,  1.,  1.,  1.,  1.,  1.,  1.,  1.,  1.,  1.],\n",
       "       [ 1.,  1.,  1.,  1.,  1.,  1.,  1.,  1.,  1.,  1.],\n",
       "       [ 1.,  1.,  1.,  1.,  1.,  1.,  1.,  1.,  1.,  1.]])"
      ]
     },
     "execution_count": 9,
     "metadata": {},
     "output_type": "execute_result"
    }
   ],
   "source": [
    "n"
   ]
  },
  {
   "cell_type": "code",
   "execution_count": 3,
   "metadata": {
    "collapsed": false
   },
   "outputs": [
    {
     "ename": "NameError",
     "evalue": "name 'n' is not defined",
     "output_type": "error",
     "traceback": [
      "\u001b[1;31m\u001b[0m",
      "\u001b[1;31mNameError\u001b[0mTraceback (most recent call last)",
      "\u001b[1;32m<ipython-input-3-5378e3cab07a>\u001b[0m in \u001b[0;36m<module>\u001b[1;34m()\u001b[0m\n\u001b[1;32m----> 1\u001b[1;33m \u001b[0mn\u001b[0m\u001b[1;33m[\u001b[0m\u001b[1;36m0\u001b[0m\u001b[1;33m]\u001b[0m\u001b[1;33m\u001b[0m\u001b[0m\n\u001b[0m",
      "\u001b[1;31mNameError\u001b[0m: name 'n' is not defined"
     ]
    }
   ],
   "source": [
    "n[0]"
   ]
  },
  {
   "cell_type": "code",
   "execution_count": 2,
   "metadata": {
    "collapsed": false
   },
   "outputs": [
    {
     "ename": "ImportError",
     "evalue": "No module named 'cPickle'",
     "output_type": "error",
     "traceback": [
      "\u001b[1;31m\u001b[0m",
      "\u001b[1;31mImportError\u001b[0mTraceback (most recent call last)",
      "\u001b[1;32m<ipython-input-2-de37ce1dff89>\u001b[0m in \u001b[0;36m<module>\u001b[1;34m()\u001b[0m\n\u001b[1;32m----> 1\u001b[1;33m \u001b[1;32mimport\u001b[0m \u001b[0mcPickle\u001b[0m\u001b[1;33m\u001b[0m\u001b[0m\n\u001b[0m",
      "\u001b[1;31mImportError\u001b[0m: No module named 'cPickle'"
     ]
    }
   ],
   "source": [
    "import cPickle\n"
   ]
  },
  {
   "cell_type": "code",
   "execution_count": 3,
   "metadata": {
    "collapsed": true
   },
   "outputs": [],
   "source": [
    "import pickle"
   ]
  },
  {
   "cell_type": "code",
   "execution_count": 1,
   "metadata": {
    "collapsed": false
   },
   "outputs": [],
   "source": [
    "import numpy as np\n",
    "A = np.ones((1000,1000000))"
   ]
  },
  {
   "cell_type": "code",
   "execution_count": 2,
   "metadata": {
    "collapsed": false
   },
   "outputs": [
    {
     "data": {
      "text/plain": [
       "array([[ 1.,  1.,  1., ...,  1.,  1.,  1.],\n",
       "       [ 1.,  1.,  1., ...,  1.,  1.,  1.],\n",
       "       [ 1.,  1.,  1., ...,  1.,  1.,  1.],\n",
       "       ..., \n",
       "       [ 1.,  1.,  1., ...,  1.,  1.,  1.],\n",
       "       [ 1.,  1.,  1., ...,  1.,  1.,  1.],\n",
       "       [ 1.,  1.,  1., ...,  1.,  1.,  1.]])"
      ]
     },
     "execution_count": 2,
     "metadata": {},
     "output_type": "execute_result"
    }
   ],
   "source": [
    "A"
   ]
  },
  {
   "cell_type": "code",
   "execution_count": 49,
   "metadata": {
    "collapsed": false
   },
   "outputs": [
    {
     "name": "stdout",
     "output_type": "stream",
     "text": [
      "KeysView(<HDF5 file \"data.h5\" (mode r)>)\n",
      "[[ 0.87935668  0.22015663  0.60050923  0.619555    0.36562234  0.01134368\n",
      "   0.95326378  0.32649935  0.69552117  0.09368583]\n",
      " [ 0.9753727   0.81787614  0.14762452  0.79175603  0.22693815  0.97322884\n",
      "   0.7885924   0.07125317  0.90908325  0.27487283]\n",
      " [ 0.51322078  0.92096943  0.85483668  0.58084062  0.09596679  0.03744369\n",
      "   0.63492219  0.94093238  0.42256708  0.15300893]\n",
      " [ 0.37978035  0.28390884  0.72416364  0.48991706  0.66339147  0.75366563\n",
      "   0.48997917  0.96229903  0.07759361  0.45879281]\n",
      " [ 0.48339617  0.30848216  0.6790967   0.40916603  0.24770573  0.49913381\n",
      "   0.50425874  0.88590725  0.02124993  0.14429764]\n",
      " [ 0.26500853  0.91775398  0.38647924  0.31973276  0.85655646  0.05627777\n",
      "   0.04041011  0.43853301  0.60380474  0.29103324]\n",
      " [ 0.40674265  0.21966753  0.0610351   0.48704741  0.5480574   0.40134247\n",
      "   0.95577665  0.75704035  0.89773579  0.27913323]\n",
      " [ 0.55863877  0.41473297  0.53611539  0.60456719  0.09829342  0.39222829\n",
      "   0.58194712  0.38287379  0.2173787   0.15761051]\n",
      " [ 0.31607246  0.44672259  0.98195189  0.2427264   0.4947035   0.85216111\n",
      "   0.94219365  0.29649104  0.05255955  0.16956649]\n",
      " [ 0.48757674  0.80651625  0.83622112  0.46911268  0.99501721  0.38417313\n",
      "   0.38910471  0.45249813  0.99972681  0.29832902]\n",
      " [ 0.75455867  0.82535988  0.22169531  0.92052425  0.95761053  0.68990147\n",
      "   0.62760964  0.28721993  0.9859573   0.77623165]\n",
      " [ 0.53105242  0.78719909  0.73550061  0.77406218  0.38822536  0.86846569\n",
      "   0.48562263  0.36247073  0.99563361  0.28226446]\n",
      " [ 0.33340315  0.65656198  0.84386974  0.02531415  0.8491573   0.37308277\n",
      "   0.58084196  0.48266325  0.14535401  0.47428522]\n",
      " [ 0.16823999  0.63671684  0.31404291  0.57537312  0.94153399  0.07999903\n",
      "   0.27142595  0.02660166  0.70492562  0.55560238]\n",
      " [ 0.16467831  0.16019334  0.75859261  0.09851609  0.48640877  0.42272217\n",
      "   0.22650893  0.62603023  0.90418473  0.12854852]\n",
      " [ 0.40728767  0.58096284  0.72144028  0.45612986  0.35982844  0.45545107\n",
      "   0.96851057  0.53497889  0.3784893   0.4163086 ]\n",
      " [ 0.50128624  0.78010392  0.30175158  0.27119549  0.48412884  0.58651855\n",
      "   0.63598449  0.6310921   0.77639013  0.94374648]\n",
      " [ 0.18010325  0.85667755  0.06313039  0.61073374  0.93666544  0.74997949\n",
      "   0.88688331  0.87021651  0.8094685   0.65987164]\n",
      " [ 0.39654957  0.45689466  0.31017744  0.84701867  0.36922798  0.91461097\n",
      "   0.82681359  0.82080626  0.75440685  0.25994241]\n",
      " [ 0.91382101  0.15805065  0.30062535  0.2078524   0.50073286  0.06081332\n",
      "   0.05153515  0.32189031  0.87906158  0.24943351]\n",
      " [ 0.62844346  0.22657652  0.97394895  0.29194448  0.92019142  0.43811334\n",
      "   0.29887088  0.76786891  0.43859335  0.6778458 ]\n",
      " [ 0.76901244  0.89643655  0.08551703  0.64387763  0.42364353  0.15916234\n",
      "   0.15086122  0.24291122  0.93963259  0.77993294]\n",
      " [ 0.48431875  0.98122754  0.11711939  0.3544754   0.09739337  0.9902818\n",
      "   0.06202644  0.58347263  0.97778002  0.75870313]\n",
      " [ 0.73458446  0.10736799  0.86273898  0.18977962  0.07712185  0.4702081\n",
      "   0.38998275  0.38912561  0.56290171  0.33948921]\n",
      " [ 0.26234496  0.47526419  0.09901124  0.16429225  0.95493372  0.48959144\n",
      "   0.55028955  0.31679409  0.10044712  0.17077158]\n",
      " [ 0.96890028  0.51752185  0.89476489  0.0736693   0.73054601  0.70789752\n",
      "   0.93924783  0.11891683  0.39099731  0.89514374]\n",
      " [ 0.78399722  0.52948884  0.29041573  0.97558602  0.57974699  0.31031473\n",
      "   0.77486651  0.37663345  0.03382265  0.43336726]\n",
      " [ 0.71098392  0.25177622  0.15636267  0.3202091   0.11932172  0.07788776\n",
      "   0.19720328  0.60226392  0.02060656  0.64369869]\n",
      " [ 0.72600498  0.40298656  0.88960813  0.39772158  0.27735494  0.76321516\n",
      "   0.90399623  0.56968949  0.16413069  0.45512542]\n",
      " [ 0.98622756  0.55687773  0.03231662  0.34475275  0.49800247  0.05814044\n",
      "   0.30097559  0.74515538  0.6208805   0.60433191]\n",
      " [ 0.98892014  0.65069495  0.85126493  0.23346891  0.00611893  0.90053445\n",
      "   0.10151083  0.68262075  0.33184587  0.15173249]\n",
      " [ 0.67087907  0.85097676  0.00570206  0.24711997  0.09147258  0.7750371\n",
      "   0.03352885  0.14813429  0.7718382   0.0805206 ]\n",
      " [ 0.39392258  0.60030417  0.56821274  0.91773046  0.14917794  0.81790148\n",
      "   0.44434777  0.21643254  0.98998374  0.27167015]\n",
      " [ 0.08813889  0.3467872   0.53525248  0.25637391  0.33128843  0.39151484\n",
      "   0.20020264  0.53620659  0.04495009  0.74273225]\n",
      " [ 0.62999408  0.95165371  0.65717142  0.26688926  0.19457486  0.15011711\n",
      "   0.37789457  0.46364655  0.82026899  0.95412644]\n",
      " [ 0.00762443  0.60325333  0.46231559  0.91523029  0.80584182  0.29996976\n",
      "   0.79004549  0.83280049  0.62471173  0.80407424]\n",
      " [ 0.18372006  0.34393424  0.53386037  0.04737276  0.65037113  0.65146649\n",
      "   0.89026918  0.00828804  0.86210888  0.76960458]\n",
      " [ 0.72913358  0.94063754  0.76249399  0.30656147  0.32245507  0.0994929\n",
      "   0.41914301  0.8075715   0.4473099   0.78814634]\n",
      " [ 0.24392683  0.09106164  0.89977001  0.09432419  0.90118311  0.58166538\n",
      "   0.88772894  0.52411063  0.34853713  0.7575413 ]\n",
      " [ 0.32976358  0.62656874  0.95629196  0.81687966  0.49961038  0.10658604\n",
      "   0.17074978  0.77464339  0.003464    0.08714112]\n",
      " [ 0.18299986  0.89603189  0.7956805   0.04520925  0.64363249  0.02006886\n",
      "   0.27019455  0.09678162  0.82131457  0.03199644]\n",
      " [ 0.76008086  0.17507088  0.34135923  0.42687088  0.32338001  0.44371168\n",
      "   0.21641203  0.62822985  0.55796328  0.67012057]\n",
      " [ 0.19438653  0.05498564  0.59893101  0.16758385  0.41721451  0.52508671\n",
      "   0.07956309  0.51586367  0.01804936  0.03655912]\n",
      " [ 0.18024857  0.20917195  0.69855541  0.86464863  0.19369743  0.50575867\n",
      "   0.94214386  0.35489806  0.50406381  0.30462232]\n",
      " [ 0.6510593   0.39440916  0.54565183  0.64789343  0.27127448  0.22012913\n",
      "   0.33120875  0.05555451  0.10268796  0.73522915]\n",
      " [ 0.29019998  0.57898824  0.19183905  0.94968888  0.58187986  0.10426639\n",
      "   0.23475074  0.1381397   0.67482473  0.58625988]\n",
      " [ 0.58423001  0.2856685   0.54583504  0.74352353  0.30804623  0.97492216\n",
      "   0.32319752  0.44211763  0.82370097  0.8129607 ]\n",
      " [ 0.61574192  0.79913284  0.94003156  0.11789013  0.5373818   0.54626856\n",
      "   0.01670915  0.493258    0.31446067  0.36535851]\n",
      " [ 0.7452505   0.01838467  0.21373542  0.93211319  0.39524116  0.5733958\n",
      "   0.40805696  0.93518118  0.73823776  0.45952128]\n",
      " [ 0.3169608   0.7355413   0.29287316  0.16532029  0.01810831  0.55130446\n",
      "   0.47337008  0.04051571  0.35874436  0.1122235 ]\n",
      " [ 0.29702323  0.0774496   0.61982501  0.94673976  0.87362342  0.57846769\n",
      "   0.55740737  0.23841461  0.08116604  0.93129485]\n",
      " [ 0.48170245  0.36985695  0.29942792  0.34207261  0.84653596  0.5343157\n",
      "   0.02390054  0.81789007  0.14775439  0.17434519]\n",
      " [ 0.60793022  0.68411079  0.98040777  0.2879965   0.43911284  0.65375041\n",
      "   0.31113709  0.52402222  0.54343969  0.92350323]\n",
      " [ 0.34212528  0.8825215   0.86929494  0.66378608  0.96312669  0.85610627\n",
      "   0.81133669  0.1598015   0.41420963  0.06992918]\n",
      " [ 0.30873361  0.46845349  0.14609704  0.87044083  0.84022317  0.59991809\n",
      "   0.59307198  0.16233465  0.82981238  0.47346972]\n",
      " [ 0.64919285  0.71235304  0.84208863  0.63849079  0.77027793  0.47932039\n",
      "   0.05868379  0.10330862  0.51883013  0.19906792]\n",
      " [ 0.94257328  0.46468324  0.90072226  0.34136451  0.15676188  0.18110424\n",
      "   0.90624007  0.58843385  0.05188957  0.55033529]\n",
      " [ 0.329626    0.21654885  0.48293754  0.73883811  0.74686276  0.47337938\n",
      "   0.88830629  0.72886743  0.27869484  0.72528918]\n",
      " [ 0.75339283  0.42563017  0.61508699  0.4879588   0.15504986  0.88374181\n",
      "   0.1709772   0.64876536  0.04947174  0.32993504]\n",
      " [ 0.54877627  0.43176054  0.44714386  0.52625698  0.98994929  0.34851086\n",
      "   0.42942255  0.58224775  0.26466165  0.47681193]\n",
      " [ 0.90233806  0.23413319  0.6498053   0.7119873   0.46734346  0.44012655\n",
      "   0.75709738  0.68907723  0.51545808  0.25164289]\n",
      " [ 0.9935898   0.86509563  0.99931639  0.58447963  0.44496088  0.9936236\n",
      "   0.99151162  0.03402663  0.61771703  0.07034309]\n",
      " [ 0.38751757  0.94999746  0.59925555  0.16273067  0.42486055  0.16594198\n",
      "   0.2519832   0.31855399  0.49841599  0.88900275]\n",
      " [ 0.89175344  0.78103202  0.02737155  0.21770324  0.94852595  0.77573814\n",
      "   0.30066441  0.53401296  0.85031061  0.56445664]\n",
      " [ 0.81020265  0.8073704   0.25237789  0.79131948  0.06044368  0.39036026\n",
      "   0.2092599   0.63527215  0.65296953  0.62279156]\n",
      " [ 0.35965944  0.92186296  0.26748733  0.01483083  0.60238177  0.43192073\n",
      "   0.92143396  0.77897206  0.93951316  0.9164477 ]\n",
      " [ 0.48357717  0.56775772  0.9010795   0.48577925  0.23919271  0.88427381\n",
      "   0.80381413  0.97803079  0.97004116  0.17056111]\n",
      " [ 0.57525609  0.34815782  0.38420648  0.41205046  0.88168395  0.57531944\n",
      "   0.55903866  0.9606968   0.22084245  0.12078979]\n",
      " [ 0.98971101  0.56963178  0.92905428  0.46852272  0.20030269  0.27043229\n",
      "   0.18005132  0.3925042   0.81094262  0.82741422]\n",
      " [ 0.22397935  0.4495022   0.05267101  0.57063444  0.64400908  0.89734965\n",
      "   0.65885593  0.71325516  0.01750672  0.71848202]\n",
      " [ 0.78938907  0.38363261  0.09366177  0.93769758  0.81712069  0.87417776\n",
      "   0.3524087   0.69786977  0.57705162  0.25943977]\n",
      " [ 0.27898343  0.99604883  0.58038566  0.03675991  0.81126224  0.25883789\n",
      "   0.43657372  0.82753291  0.89814725  0.17141164]\n",
      " [ 0.9865608   0.96577895  0.13077871  0.25037337  0.99116432  0.40883628\n",
      "   0.62264438  0.98869945  0.68820215  0.90253967]\n",
      " [ 0.89876289  0.49406187  0.55818141  0.13433513  0.14435343  0.12457549\n",
      "   0.67200287  0.9815265   0.79397879  0.39175325]\n",
      " [ 0.51692984  0.9068021   0.6705242   0.08394592  0.65026688  0.21038493\n",
      "   0.61868973  0.1137955   0.68923516  0.69147493]\n",
      " [ 0.90620632  0.86195658  0.98485309  0.16188486  0.06929504  0.68190892\n",
      "   0.96473355  0.5010437   0.74300087  0.33814086]\n",
      " [ 0.19523336  0.43378834  0.73828868  0.55959814  0.01277217  0.70992408\n",
      "   0.71145728  0.23716943  0.01853417  0.25079119]\n",
      " [ 0.31980434  0.35823913  0.8599439   0.41535041  0.68412112  0.96896547\n",
      "   0.45159378  0.28053389  0.22947228  0.34459887]\n",
      " [ 0.7694229   0.75841214  0.71082751  0.72274448  0.55017067  0.97924649\n",
      "   0.68704052  0.56157804  0.08230948  0.22695775]\n",
      " [ 0.84834718  0.35411767  0.44620293  0.36173153  0.73232071  0.53278856\n",
      "   0.78284866  0.57888397  0.80087597  0.58847517]\n",
      " [ 0.9826561   0.42084618  0.24732455  0.0151352   0.34305555  0.32746456\n",
      "   0.97717351  0.17298297  0.07207418  0.54483133]\n",
      " [ 0.77483364  0.56058624  0.48744141  0.19142002  0.74309494  0.22804808\n",
      "   0.58840726  0.25461859  0.01394684  0.48651999]\n",
      " [ 0.47519609  0.89466922  0.02564183  0.44400197  0.57552435  0.36779759\n",
      "   0.52020043  0.82521547  0.11546568  0.19214545]\n",
      " [ 0.46636053  0.59430411  0.45638973  0.40787835  0.98250094  0.30093328\n",
      "   0.09628221  0.87170517  0.74038724  0.63996296]\n",
      " [ 0.39770549  0.62982931  0.38783051  0.18570513  0.45254997  0.69917104\n",
      "   0.68098134  0.83444402  0.79685741  0.48998815]\n",
      " [ 0.40790174  0.91452291  0.45708817  0.43026428  0.07104278  0.76387106\n",
      "   0.98329395  0.15304275  0.58502687  0.54027333]\n",
      " [ 0.5016499   0.34069414  0.37727481  0.32324759  0.81157524  0.71762905\n",
      "   0.7519109   0.66353409  0.33224205  0.83485092]\n",
      " [ 0.41793884  0.75255777  0.10616736  0.06595526  0.23384108  0.4476573\n",
      "   0.13111242  0.49764445  0.86686327  0.49986967]\n",
      " [ 0.99060927  0.07895795  0.75430508  0.52581501  0.54727206  0.6076863\n",
      "   0.99035412  0.95397725  0.29271866  0.90244373]\n",
      " [ 0.47659768  0.13833777  0.24489195  0.20322352  0.87217146  0.94820068\n",
      "   0.29120837  0.32134157  0.41367122  0.01927389]\n",
      " [ 0.70721701  0.05876879  0.53274004  0.26701134  0.09560903  0.97007013\n",
      "   0.11799392  0.52360644  0.13668922  0.27871514]\n",
      " [ 0.18363347  0.33091493  0.13061278  0.50820799  0.51455241  0.75979772\n",
      "   0.17300794  0.26462403  0.5968511   0.12239775]\n",
      " [ 0.63138436  0.88030424  0.34110799  0.2279023   0.50886242  0.59318533\n",
      "   0.60025171  0.29245872  0.85775401  0.29645576]\n",
      " [ 0.7602025   0.02685676  0.92271326  0.08195253  0.22650587  0.50287369\n",
      "   0.58916985  0.66049092  0.36547914  0.16134437]\n",
      " [ 0.13383558  0.46878132  0.4785093   0.90594335  0.14872669  0.03269622\n",
      "   0.98575352  0.82345278  0.65617641  0.19052168]\n",
      " [ 0.6052936   0.59677591  0.66771836  0.51993243  0.3131038   0.65664796\n",
      "   0.10630953  0.15087039  0.27132477  0.82975228]\n",
      " [ 0.63255395  0.25226797  0.20222226  0.10289919  0.683939    0.30500417\n",
      "   0.32425441  0.75016377  0.11954656  0.13791259]\n",
      " [ 0.03850641  0.03728618  0.93113828  0.75954217  0.7562739   0.13096358\n",
      "   0.62316747  0.07900969  0.61628887  0.29917734]\n",
      " [ 0.57772754  0.41993109  0.0345968   0.81552549  0.09994601  0.02053779\n",
      "   0.38464899  0.04966688  0.21541826  0.64622677]\n",
      " [ 0.72966162  0.85527381  0.27127914  0.23780671  0.10075003  0.68616401\n",
      "   0.08832116  0.59593616  0.18870665  0.64607203]]\n"
     ]
    }
   ],
   "source": [
    "import h5py\n",
    "import numpy as np\n",
    "\n",
    "A = np.random.random((1000,1000))\n",
    "#with h5py.File('data.h5','w') as hf:\n",
    "#    hf.create_dataset('dataset',data=A)\n",
    "\n",
    "#h5py.File('data.h5','w').create_dataset('dataset',data=A)\n",
    "\n",
    "with h5py.File('data.h5', 'r') as hr:\n",
    "    print(hr.keys())\n",
    "    #X = hr['dataset'][0:1000, 0:1000]\n",
    "    #print(X[1,0:1000])\n",
    "    \n",
    "    Y = hr['dataset'][1,:]\n",
    "    #print(Y)\n",
    "    print(np.reshape(Y,(100,10)))\n",
    "    \n",
    "#hr = h5py.File('data.h5')\n",
    "#hr.keys()    \n",
    "          "
   ]
  },
  {
   "cell_type": "code",
   "execution_count": 5,
   "metadata": {
    "collapsed": false
   },
   "outputs": [
    {
     "data": {
      "text/plain": [
       "KeysView(<Closed HDF5 file>)"
      ]
     },
     "execution_count": 5,
     "metadata": {},
     "output_type": "execute_result"
    }
   ],
   "source": [
    "hr.keys()"
   ]
  },
  {
   "cell_type": "code",
   "execution_count": null,
   "metadata": {
    "collapsed": true
   },
   "outputs": [],
   "source": [
    "import numpy as np\n",
    "import h5py\n",
    "\n",
    "B  = np.random.random((1001,1048576))\n",
    "h5py.File('data.h5','w').create_dataset('dataset',data=B)\n"
   ]
  },
  {
   "cell_type": "code",
   "execution_count": 1,
   "metadata": {
    "collapsed": false
   },
   "outputs": [
    {
     "ename": "NameError",
     "evalue": "name 'close' is not defined",
     "output_type": "error",
     "traceback": [
      "\u001b[1;31m\u001b[0m",
      "\u001b[1;31mNameError\u001b[0mTraceback (most recent call last)",
      "\u001b[1;32m<ipython-input-1-7113b4242903>\u001b[0m in \u001b[0;36m<module>\u001b[1;34m()\u001b[0m\n\u001b[1;32m----> 1\u001b[1;33m \u001b[0mclose\u001b[0m\u001b[1;33m(\u001b[0m\u001b[1;33m)\u001b[0m\u001b[1;33m\u001b[0m\u001b[0m\n\u001b[0m",
      "\u001b[1;31mNameError\u001b[0m: name 'close' is not defined"
     ]
    }
   ],
   "source": [
    "close()"
   ]
  },
  {
   "cell_type": "code",
   "execution_count": 1,
   "metadata": {
    "collapsed": true
   },
   "outputs": [],
   "source": [
    "import h5py\n"
   ]
  },
  {
   "cell_type": "code",
   "execution_count": 6,
   "metadata": {
    "collapsed": false
   },
   "outputs": [],
   "source": [
    "import h5py\n",
    "import numpy as np\n",
    "\n",
    "A = np.random.random((1000,1000))\n",
    "B = np.random.random((1000,1000))\n",
    "\n",
    "with h5py.File('data1.h5','w') as hf:\n",
    "    hf.create_dataset('dataset1',data=A[1:10,:])\n",
    "    hf.create_dataset('dataset2',data=B)\n",
    "\n",
    "\n"
   ]
  },
  {
   "cell_type": "code",
   "execution_count": 7,
   "metadata": {
    "collapsed": false
   },
   "outputs": [
    {
     "name": "stdout",
     "output_type": "stream",
     "text": [
      "KeysView(<HDF5 file \"data1.h5\" (mode r)>)\n",
      "(9, 1000)\n",
      "[[ 0.74728509  0.94968011  0.75585189 ...,  0.95202549  0.21900725\n",
      "   0.54665021]\n",
      " [ 0.76542339  0.35927125  0.47872476 ...,  0.53334313  0.33448051\n",
      "   0.46986659]\n",
      " [ 0.74337923  0.79785538  0.79103477 ...,  0.53360634  0.05138411\n",
      "   0.10188293]\n",
      " ..., \n",
      " [ 0.97661968  0.16122344  0.38772386 ...,  0.29482163  0.64986342\n",
      "   0.90160452]\n",
      " [ 0.10457696  0.85757524  0.1765187  ...,  0.51944675  0.10324157\n",
      "   0.83444133]\n",
      " [ 0.3509641   0.27396742  0.29322332 ...,  0.95337216  0.38826628\n",
      "   0.93786058]]\n"
     ]
    }
   ],
   "source": [
    "with h5py.File('data1.h5','r') as hf:\n",
    "    print(hf.keys())\n",
    "    print(hf['dataset1'][:,:].shape)\n",
    "    print(hf['dataset2'][:,:])\n",
    "    "
   ]
  },
  {
   "cell_type": "code",
   "execution_count": 23,
   "metadata": {
    "collapsed": false
   },
   "outputs": [
    {
     "name": "stdout",
     "output_type": "stream",
     "text": [
      "15.6327075958\n",
      "162\n",
      "3\n"
     ]
    },
    {
     "data": {
      "text/plain": [
       "<matplotlib.image.AxesImage at 0x7fd088fb4ef0>"
      ]
     },
     "execution_count": 23,
     "metadata": {},
     "output_type": "execute_result"
    },
    {
     "data": {
      "image/png": "[encoded data removed]",
      "text/plain": [
       "<matplotlib.figure.Figure at 0x7fd0a417f9e8>"
      ]
     },
     "metadata": {},
     "output_type": "display_data"
    }
   ],
   "source": [
    "import numpy as np\n",
    "import matplotlib\n",
    "import matplotlib.pyplot as plt\n",
    "from PIL import Image\n",
    "\n",
    "image = Image.open('/global/homes/s/ssingh79/DeepLearningTutorials-master/code/fico-gifs/fico_0200z_conv_0001.png')\n",
    "pic = np.array(image)\n",
    "print(np.mean(pic))\n",
    "print(np.max(pic))\n",
    "print(np.min(pic))\n",
    "\n",
    "%matplotlib inline\n",
    "plt.imshow(pic, interpolation = 'None')"
   ]
  },
  {
   "cell_type": "code",
   "execution_count": null,
   "metadata": {
    "collapsed": true
   },
   "outputs": [],
   "source": []
  }
 ],
 "metadata": {
  "kernelspec": {
   "display_name": "Python 3",
   "language": "python",
   "name": "python3"
  },
  "language_info": {
   "codemirror_mode": {
    "name": "ipython",
    "version": 3
   },
   "file_extension": ".py",
   "mimetype": "text/x-python",
   "name": "python",
   "nbconvert_exporter": "python",
   "pygments_lexer": "ipython3",
   "version": "3.5.1"
  }
 },
 "nbformat": 4,
 "nbformat_minor": 0
}
