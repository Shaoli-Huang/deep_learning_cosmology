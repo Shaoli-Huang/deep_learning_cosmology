{
 "cells": [
  {
   "cell_type": "code",
   "execution_count": 6,
   "metadata": {
    "collapsed": false
   },
   "outputs": [
    {
     "name": "stdout",
     "output_type": "stream",
     "text": [
      "[[ 0.  0.  0. ...,  0.  0.  0.]\n",
      " [ 0.  0.  0. ...,  0.  0.  0.]\n",
      " [ 0.  0.  0. ...,  0.  0.  0.]\n",
      " ..., \n",
      " [ 0.  0.  0. ...,  0.  0.  0.]\n",
      " [ 0.  0.  0. ...,  0.  0.  0.]\n",
      " [ 0.  0.  0. ...,  0.  0.  0.]]\n",
      "(1048576, 1000)\n",
      "[[-0.01032324  0.00679525  0.0022744  ...,  0.00272996  0.00131517\n",
      "  -0.01999429]\n",
      " [-0.01425773 -0.00880954 -0.01731869 ..., -0.03221876 -0.03300291\n",
      "  -0.03058375]\n",
      " [-0.03098636 -0.03001354 -0.03555309 ..., -0.03751731 -0.01329431\n",
      "  -0.01983533]\n",
      " ..., \n",
      " [ 0.02468359  0.02330401  0.01009488 ..., -0.02305603  0.01812168\n",
      "  -0.00902881]\n",
      " [ 0.03540119  0.01813731  0.02200688 ..., -0.00815265  0.01363478\n",
      "  -0.01429077]\n",
      " [ 0.01553924  0.0008415  -0.0085221  ...,  0.03324072  0.00723581\n",
      "  -0.02659455]]\n",
      "(1024, 1024)\n",
      "True\n"
     ]
    },
    {
     "ename": "ValueError",
     "evalue": "setting an array element with a sequence.",
     "output_type": "error",
     "traceback": [
      "\u001b[0;31m---------------------------------------------------------------------------\u001b[0m",
      "\u001b[0;31mValueError\u001b[0m                                Traceback (most recent call last)",
      "\u001b[0;32m<ipython-input-6-ca6aead91470>\u001b[0m in \u001b[0;36m<module>\u001b[0;34m()\u001b[0m\n\u001b[1;32m     88\u001b[0m \u001b[0;34m\u001b[0m\u001b[0m\n\u001b[1;32m     89\u001b[0m \u001b[0;31m# Run command to get a pickle gzip dataset desired for Training.\u001b[0m\u001b[0;34m\u001b[0m\u001b[0;34m\u001b[0m\u001b[0m\n\u001b[0;32m---> 90\u001b[0;31m \u001b[0mstore_pklgz_from_numpy\u001b[0m\u001b[0;34m(\u001b[0m\u001b[0;34m)\u001b[0m\u001b[0;34m\u001b[0m\u001b[0m\n\u001b[0m\u001b[1;32m     91\u001b[0m \u001b[0;34m\u001b[0m\u001b[0m\n\u001b[1;32m     92\u001b[0m \u001b[0;34m\u001b[0m\u001b[0m\n",
      "\u001b[0;32m<ipython-input-6-ca6aead91470>\u001b[0m in \u001b[0;36mstore_pklgz_from_numpy\u001b[0;34m()\u001b[0m\n\u001b[1;32m     81\u001b[0m \u001b[0;32mdef\u001b[0m \u001b[0mstore_pklgz_from_numpy\u001b[0m\u001b[0;34m(\u001b[0m\u001b[0;34m)\u001b[0m\u001b[0;34m:\u001b[0m\u001b[0;34m\u001b[0m\u001b[0m\n\u001b[1;32m     82\u001b[0m \u001b[0;34m\u001b[0m\u001b[0m\n\u001b[0;32m---> 83\u001b[0;31m     \u001b[0mflattened_images\u001b[0m \u001b[0;34m=\u001b[0m \u001b[0mcreate_numpy_from_fits\u001b[0m\u001b[0;34m(\u001b[0m\u001b[0;34m)\u001b[0m\u001b[0;34m\u001b[0m\u001b[0m\n\u001b[0m\u001b[1;32m     84\u001b[0m \u001b[0;34m\u001b[0m\u001b[0m\n\u001b[1;32m     85\u001b[0m \u001b[0;34m\u001b[0m\u001b[0m\n",
      "\u001b[0;32m<ipython-input-6-ca6aead91470>\u001b[0m in \u001b[0;36mcreate_numpy_from_fits\u001b[0;34m()\u001b[0m\n\u001b[1;32m     70\u001b[0m \u001b[0;34m\u001b[0m\u001b[0m\n\u001b[1;32m     71\u001b[0m         \u001b[0;32mfor\u001b[0m \u001b[0mj\u001b[0m \u001b[0;32min\u001b[0m \u001b[0mrange\u001b[0m\u001b[0;34m(\u001b[0m\u001b[0;36m1\u001b[0m\u001b[0;34m,\u001b[0m \u001b[0mimage_dim\u001b[0m\u001b[0;34m)\u001b[0m\u001b[0;34m:\u001b[0m\u001b[0;34m\u001b[0m\u001b[0m\n\u001b[0;32m---> 72\u001b[0;31m             \u001b[0mflatten_images\u001b[0m\u001b[0;34m[\u001b[0m\u001b[0mi\u001b[0m\u001b[0;34m]\u001b[0m\u001b[0;34m[\u001b[0m\u001b[0mj\u001b[0m\u001b[0;34m]\u001b[0m \u001b[0;34m=\u001b[0m \u001b[0mimage\u001b[0m\u001b[0;34m[\u001b[0m\u001b[0mj\u001b[0m\u001b[0;34m]\u001b[0m\u001b[0;34m\u001b[0m\u001b[0m\n\u001b[0m\u001b[1;32m     73\u001b[0m \u001b[0;34m\u001b[0m\u001b[0m\n\u001b[1;32m     74\u001b[0m         \u001b[0mmisc\u001b[0m\u001b[0;34m.\u001b[0m\u001b[0mtoimage\u001b[0m\u001b[0;34m(\u001b[0m\u001b[0mimage\u001b[0m\u001b[0;34m,\u001b[0m \u001b[0mcmin\u001b[0m\u001b[0;34m=\u001b[0m\u001b[0;36m0.0\u001b[0m\u001b[0;34m,\u001b[0m \u001b[0mcmax\u001b[0m\u001b[0;34m=\u001b[0m\u001b[0;34m...\u001b[0m\u001b[0;34m)\u001b[0m\u001b[0;34m.\u001b[0m\u001b[0msave\u001b[0m\u001b[0;34m(\u001b[0m\u001b[0;34m'outfile.png'\u001b[0m\u001b[0;34m)\u001b[0m\u001b[0;34m\u001b[0m\u001b[0m\n",
      "\u001b[0;31mValueError\u001b[0m: setting an array element with a sequence."
     ]
    }
   ],
   "source": [
    "#### need to module load python/2.7-anaconda\n",
    "from astropy.io import fits\n",
    "from scipy import misc\n",
    "import numpy as np\n",
    "import os\n",
    "\n",
    "# Debbie Dirs \n",
    "dataurl_deb = \"/global/homes/d/djbard/project_lsst/m-series/m-512b240_Om0.260_Ol0.740_w-1.000_ns0.960_si0.798/\"\n",
    "\n",
    "# Dir urls on srcatch and local host for m-series z=2 \n",
    "dataurl_from_scratch_dir = \"/global/cscratch1/sd/ssingh79/m-series/m-512b240_Om0.260_Ol0.740_w-1.000_ns0.960_si0.798/\"\n",
    "dataurl_from_local_dir = \"/Users/ssingh79/Downloads/DeepLearningTutorials-master/data/m-series/m-512b240_Om0.260_Ol0.740_w-1.000_ns0.960_si0.798/\"\n",
    "base_filename = \"fico_0200z_conv_\"\n",
    "\n",
    "ouptut_data_dir = \"\"\n",
    "\n",
    "def create_png_from_fits():\n",
    "    for i in range(1,1001):\n",
    "        if i<10:\n",
    "            num = \"000\"+str(i)\n",
    "        elif i<100:\n",
    "            num=\"00\"+str(i)\n",
    "        elif i<1000:\n",
    "            num = \"0\"+str(i)\n",
    "        elif i==1000:\n",
    "            num = str(i)\n",
    "        else:\n",
    "            print(\"gah!\") \n",
    "              \n",
    "        filepath = os.path.join(dataurl_from_local_dir,base_filename + str(num) + \".fit\")\n",
    "        #print(filepath)\n",
    "        hdulist = fits.open(filepath)\n",
    "\n",
    "        image = hdulist[0].data\n",
    "        \n",
    "        # I'm using the max/min pixel values -0.102/1.6, so that I'm making a consistent greyscale across the cosmologies. This covers everything at z=2. \n",
    "        misc.toimage(image, cmin=-0.102, cmax=1.6).save(\"fico-gifs/fico_0200z_conv_\"+num+\".png\", )\n",
    "\n",
    "def create_numpy_from_fits(): \n",
    "\n",
    "    # Create a numpy array to store images (numpy ndarray)\n",
    "    # Initialize space for the numpy ndarray \n",
    "    image_dim = 1024*1024\n",
    "    sample_size = 1000\n",
    "    flatten_images = np.zeros((image_dim, sample_size), dtype= 'float')\n",
    "    print(flatten_images)\n",
    "    print(flatten_images.shape)\n",
    "\n",
    "    for i in range(1,1001):\n",
    "        if i<10:\n",
    "            num = \"000\"+str(i)\n",
    "        elif i<100:\n",
    "            num=\"00\"+str(i)\n",
    "        elif i<1000:\n",
    "            num = \"0\"+str(i)\n",
    "        elif i==1000:\n",
    "            num = str(i)\n",
    "        else:\n",
    "            print(\"gah!\") \n",
    "                  \n",
    "        filepath = os.path.join(dataurl_from_local_dir, base_filename + num + \".fit\")\n",
    "        #print(filepath)\n",
    "        hdulist = fits.open(filepath)\n",
    "\n",
    "        image = hdulist[0].data\n",
    "        # Check type of values\n",
    "        print(image)\n",
    "        print(image.shape)\n",
    "        print(np.asarray(image) is image)\n",
    "\n",
    "        #for j in range(1, image_dim):\n",
    "         #   flatten_images[i][j] = image[j]\n",
    "        \n",
    "        misc.toimage(image, cmin=0.0, cmax=...).show()\n",
    "        #![title](outfile.png)\n",
    "\n",
    "    #print(flatten_images)\n",
    "    return flatten_images\n",
    "\n",
    "\n",
    "def store_pklgz_from_numpy(): \n",
    "\n",
    "    flattened_images = create_numpy_from_fits()\n",
    "\n",
    "\n",
    "# To get Images in png format Uncomment this:\n",
    "#create_png_from_fits()\n",
    "\n",
    "# Run command to get a pickle gzip dataset desired for Training. \n",
    "store_pklgz_from_numpy()\n",
    "\n",
    "\n"
   ]
  },
  {
   "cell_type": "code",
   "execution_count": 2,
   "metadata": {
    "collapsed": false
   },
   "outputs": [
    {
     "ename": "NameError",
     "evalue": "name 'flatten_images' is not defined",
     "output_type": "error",
     "traceback": [
      "\u001b[0;31m---------------------------------------------------------------------------\u001b[0m",
      "\u001b[0;31mNameError\u001b[0m                                 Traceback (most recent call last)",
      "\u001b[0;32m<ipython-input-2-46ea4abc3135>\u001b[0m in \u001b[0;36m<module>\u001b[0;34m()\u001b[0m\n\u001b[0;32m----> 1\u001b[0;31m \u001b[0mprint\u001b[0m\u001b[0;34m(\u001b[0m\u001b[0mflatten_images\u001b[0m\u001b[0;34m)\u001b[0m\u001b[0;34m\u001b[0m\u001b[0m\n\u001b[0m",
      "\u001b[0;31mNameError\u001b[0m: name 'flatten_images' is not defined"
     ]
    }
   ],
   "source": []
  },
  {
   "cell_type": "code",
   "execution_count": null,
   "metadata": {
    "collapsed": true
   },
   "outputs": [],
   "source": []
  }
 ],
 "metadata": {
  "kernelspec": {
   "display_name": "Python 3",
   "language": "python",
   "name": "python3"
  },
  "language_info": {
   "codemirror_mode": {
    "name": "ipython",
    "version": 3
   },
   "file_extension": ".py",
   "mimetype": "text/x-python",
   "name": "python",
   "nbconvert_exporter": "python",
   "pygments_lexer": "ipython3",
   "version": "3.5.1"
  }
 },
 "nbformat": 4,
 "nbformat_minor": 0
}
