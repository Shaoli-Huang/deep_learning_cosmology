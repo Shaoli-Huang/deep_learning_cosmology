{
 "cells": [
  {
   "cell_type": "code",
   "execution_count": null,
   "metadata": {
    "collapsed": false
   },
   "outputs": [],
   "source": [
    "#Cosmology project\n",
    "# This project is about applying Machine Learning more importantly Deep Learning Technqiues on #Cosmological data to examine the structure of the universe. The dataset to start off with is a \n",
    "# simulation of heat maps in the form of a 2D imaging data. \n",
    "# This is a wrapper for the implementation of Deep Learning Technqiues. \n",
    "\n",
    "import theano \n",
    "import os\n",
    "\n",
    "from loadingdata import load_data \n",
    "#from dAE import test_dA \n",
    "#from dA import test_dA\n",
    "\n",
    "# Denoising Autoencoders    \n",
    "\n",
    "def call_loadingdata():\n",
    "    # Here we give different data sets for the autoencoders\n",
    "    dataurl = '/global/homes/s/ssingh79/data/'\n",
    "    hdf5file = 'conv_z02.h5'\n",
    "    filepath = os.path.join(dataurl, hdf5file)\n",
    "    \n",
    "    # Call the load_data method to get back the Final training set. \n",
    "    dataset = load_data(filepath)\n",
    "    \n",
    "    return dataset\n",
    "        \n",
    "def create_network():\n",
    "    # Number of Visible nodes\n",
    "    # Number of Hidden nodes\n",
    "    # Number of Hidden Layers in case of a full network\n",
    "   \n",
    "    n_visible = 4096  \n",
    "    n_hidden = 2500\n",
    "    corruption_level = 0.3\n",
    "    \n",
    "    # Specified network parameters \n",
    "    return n_visible, n_hidden, corruption_level\n",
    "\n",
    "def pass_parameters():\n",
    "    # Load final dataset\n",
    "    dataset = call_loadingdata()\n",
    "    \n",
    "    # Specify network parameters\n",
    "    learning_rate = 0.05\n",
    "    training_epochs = 15\n",
    "    batch_size = 16\n",
    "    output_folder = 'dA_plots'\n",
    "    \n",
    "    # Run dA class\n",
    "    return (learning_rate,\n",
    "            training_epochs,\n",
    "            dataset,\n",
    "            batch_size,\n",
    "            output_folder)\n",
    "\n",
    "#def test_preprocess():\n",
    "    # Do preprocessing and create hdf5 file for training. Call get_data.py and preprocess.py \n",
    "\n",
    "#def test_display():\n",
    "    #Display images from training \n",
    "    \n",
    "    \n",
    "\n",
    "#test_denoising_ae()\n",
    "#pass_parameters()\n"
   ]
  },
  {
   "cell_type": "code",
   "execution_count": 1,
   "metadata": {
    "collapsed": false,
    "scrolled": true
   },
   "outputs": [
    {
     "ename": "ImportError",
     "evalue": "No module named 'lasagne'",
     "output_type": "error",
     "traceback": [
      "\u001b[1;31m\u001b[0m",
      "\u001b[1;31mImportError\u001b[0mTraceback (most recent call last)",
      "\u001b[1;32m<ipython-input-1-950fc8a00ce6>\u001b[0m in \u001b[0;36m<module>\u001b[1;34m()\u001b[0m\n\u001b[1;32m----> 1\u001b[1;33m \u001b[1;32mimport\u001b[0m \u001b[0mlasagne\u001b[0m\u001b[1;33m\u001b[0m\u001b[0m\n\u001b[0m",
      "\u001b[1;31mImportError\u001b[0m: No module named 'lasagne'"
     ]
    }
   ],
   "source": [
    "\n"
   ]
  },
  {
   "cell_type": "code",
   "execution_count": null,
   "metadata": {
    "collapsed": true
   },
   "outputs": [],
   "source": []
  }
 ],
 "metadata": {
  "kernelspec": {
   "display_name": "Python 3",
   "language": "python",
   "name": "python3"
  },
  "language_info": {
   "codemirror_mode": {
    "name": "ipython",
    "version": 3
   },
   "file_extension": ".py",
   "mimetype": "text/x-python",
   "name": "python",
   "nbconvert_exporter": "python",
   "pygments_lexer": "ipython3",
   "version": "3.5.1"
  }
 },
 "nbformat": 4,
 "nbformat_minor": 0
}
