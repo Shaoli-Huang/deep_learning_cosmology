{
 "cells": [
  {
   "cell_type": "code",
   "execution_count": 17,
   "metadata": {
    "collapsed": false
   },
   "outputs": [
    {
     "name": "stdout",
     "output_type": "stream",
     "text": [
      "0.0441476473455\n"
     ]
    }
   ],
   "source": [
    "import numpy as np \n",
    "import matplotlib.pyplot as plt\n",
    "\n",
    "lr = np.power(10, np.random.uniform(-6,1))\n",
    "print(lr)"
   ]
  },
  {
   "cell_type": "code",
   "execution_count": 4,
   "metadata": {
    "collapsed": true
   },
   "outputs": [],
   "source": [
    "plt.scatter?\n"
   ]
  },
  {
   "cell_type": "code",
   "execution_count": null,
   "metadata": {
    "collapsed": false
   },
   "outputs": [
    {
     "name": "stdout",
     "output_type": "stream",
     "text": [
      "20\n"
     ]
    }
   ],
   "source": [
    "import os\n",
    "import h5py\n",
    "import numpy as np\n",
    "\n",
    "import matplotlib\n",
    "matplotlib.use('Agg')\n",
    "from matplotlib import pyplot as plt\n",
    "\n",
    "outputURL = '/global/homes/s/ssingh79/convolutional_autoencoder-master/output_files/'\n",
    "foldername = 'New_lr_0.05_ss_100'\n",
    "filters_fname = '/vis_filters'\n",
    "ext = '.png'\n",
    "\n",
    "model_fname = os.path.join(outputURL, foldername + '/model.npz')\n",
    "with np.load(model_fname) as f:\n",
    "    param_values = [f['arr_%d' % i] for i in range(len(f.files))]\n",
    "    \n",
    "print(len(param_values))\n",
    "    \n",
    "num_filtahz = len(param_values[0])\n",
    "n = int(np.floor(np.sqrt(num_filtahz)))\n",
    "\n",
    "plt.figure(figsize=(10, 10))\n",
    "plt.title('Layer activations')\n",
    "for i in range(n*n):\n",
    "    plt.subplot(n,n, i+1)\n",
    "    plt.axis('off')\n",
    "    plt.imshow(np.reshape(param_values[0][i],(5,5)))\n",
    "    filters_fpath = os.path.join(outputURL, foldername + filters_fname + ext)\n",
    "    plt.savefig(filters_fpath)\n",
    "plt.close()"
   ]
  },
  {
   "cell_type": "code",
   "execution_count": null,
   "metadata": {
    "collapsed": true
   },
   "outputs": [],
   "source": []
  }
 ],
 "metadata": {
  "kernelspec": {
   "display_name": "Python 3",
   "language": "python",
   "name": "python3"
  },
  "language_info": {
   "codemirror_mode": {
    "name": "ipython",
    "version": 3
   },
   "file_extension": ".py",
   "mimetype": "text/x-python",
   "name": "python",
   "nbconvert_exporter": "python",
   "pygments_lexer": "ipython3",
   "version": "3.5.1"
  }
 },
 "nbformat": 4,
 "nbformat_minor": 0
}
