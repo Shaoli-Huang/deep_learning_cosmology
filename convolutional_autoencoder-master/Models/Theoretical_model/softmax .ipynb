{
 "cells": [
  {
   "cell_type": "code",
   "execution_count": null,
   "metadata": {
    "collapsed": false
   },
   "outputs": [],
   "source": [
    "import os\n",
    "import h5py\n",
    "import numpy as np\n",
    "\n",
    "import theano\n",
    "import lasagne \n",
    "\n",
    "import matplotlib\n",
    "matplotlib.use('Agg')\n",
    "from matplotlib import pyplot as plt\n",
    "\n",
    "from supervised_cnn_2 import *\n",
    "\n",
    "outputURL = '/global/homes/s/ssingh79/convolutional_autoencoder-master/output_files/'\n",
    "foldername = 'Supervised_CNN'\n",
    "softmax_fname = '/softmax_probability'\n",
    "ext = '.png'\n",
    "\n",
    "X_train, Y_train, X_valid, Y_valid, X_test, Y_test = load_data()\n",
    "\n",
    "input_var = T.tensor4('input_var')\n",
    "\n",
    "network, bottleneck_l = build_conv_ae(input_var)\n",
    "\n",
    "model_fname = os.path.join(outputURL, foldername + '/model.npz')\n",
    "with np.load(model_fname) as f:\n",
    "    param_values = [f['arr_%d' % i] for i in range(len(f.files))]\n",
    "    print((param_values[11]))\n",
    "lasagne.layers.set_all_param_values(network, param_values) \n",
    "\n",
    "softmax_pred = lasagne.layers.get_output(network, deterministic=True)\n",
    "softmax_fn = theano.function([input_var], softmax_pred)\n",
    "\n",
    "softmax_probab = softmax_fn(X_train)\n",
    "\n",
    "print(softmax_probab)\n",
    "\n",
    "theoret_model_1 = softmax_probab[:,0]\n",
    "theoret_model_2 = softmax_probab[:,1]\n",
    "\n",
    "th_plot_1 = theoret_model_1[theoret_model_1 > 0.5]\n",
    "th_plot_2 = theoret_model_2[theoret_model_2 > 0.5]\n",
    "\n",
    "\n",
    "%matplotlib inline\n",
    "plt.hist(softmax_probab[:,0], bins = 100)\n",
    "\n"
   ]
  },
  {
   "cell_type": "code",
   "execution_count": 1,
   "metadata": {
    "collapsed": false
   },
   "outputs": [
    {
     "ename": "NameError",
     "evalue": "name 'np' is not defined",
     "output_type": "error",
     "traceback": [
      "\u001b[0;31m\u001b[0m",
      "\u001b[0;31mNameError\u001b[0mTraceback (most recent call last)",
      "\u001b[0;32m<ipython-input-1-9a49d0527b3a>\u001b[0m in \u001b[0;36m<module>\u001b[0;34m()\u001b[0m\n\u001b[0;32m----> 1\u001b[0;31m \u001b[0ma\u001b[0m \u001b[0;34m=\u001b[0m\u001b[0mnp\u001b[0m\u001b[0;34m.\u001b[0m\u001b[0margmax\u001b[0m\u001b[0;34m(\u001b[0m\u001b[0msoftmax_probab\u001b[0m\u001b[0;34m,\u001b[0m \u001b[0maxis\u001b[0m\u001b[0;34m=\u001b[0m\u001b[0;36m1\u001b[0m\u001b[0;34m)\u001b[0m\u001b[0;34m\u001b[0m\u001b[0m\n\u001b[0m",
      "\u001b[0;31mNameError\u001b[0m: name 'np' is not defined"
     ]
    }
   ],
   "source": [
    "a =np.argmax(softmax_probab, axis=1)"
   ]
  },
  {
   "cell_type": "code",
   "execution_count": 10,
   "metadata": {
    "collapsed": true
   },
   "outputs": [
    {
     "data": {
      "text/plain": [
       "(800,)"
      ]
     },
     "execution_count": 10,
     "metadata": {},
     "output_type": "execute_result"
    }
   ],
   "source": []
  },
  {
   "cell_type": "code",
   "execution_count": 13,
   "metadata": {
    "collapsed": false
   },
   "outputs": [
    {
     "data": {
      "text/plain": [
       "(800, 2)"
      ]
     },
     "execution_count": 13,
     "metadata": {},
     "output_type": "execute_result"
    }
   ],
   "source": [
    "softmax_probab.shape"
   ]
  },
  {
   "cell_type": "code",
   "execution_count": 14,
   "metadata": {
    "collapsed": true
   },
   "outputs": [],
   "source": [
    "b=softmax_probab[:,0]"
   ]
  },
  {
   "cell_type": "code",
   "execution_count": 2,
   "metadata": {
    "collapsed": false
   },
   "outputs": [
    {
     "ename": "NameError",
     "evalue": "name 'b' is not defined",
     "output_type": "error",
     "traceback": [
      "\u001b[0;31m\u001b[0m",
      "\u001b[0;31mNameError\u001b[0mTraceback (most recent call last)",
      "\u001b[0;32m<ipython-input-2-8425249e5e30>\u001b[0m in \u001b[0;36m<module>\u001b[0;34m()\u001b[0m\n\u001b[0;32m----> 1\u001b[0;31m \u001b[0mb\u001b[0m\u001b[0;34m[\u001b[0m\u001b[0mb\u001b[0m\u001b[0;34m>\u001b[0m\u001b[0;36m0.5\u001b[0m\u001b[0;34m]\u001b[0m\u001b[0;34m.\u001b[0m\u001b[0mshape\u001b[0m\u001b[0;34m\u001b[0m\u001b[0m\n\u001b[0m",
      "\u001b[0;31mNameError\u001b[0m: name 'b' is not defined"
     ]
    }
   ],
   "source": [
    "b[b>0.5].shape"
   ]
  },
  {
   "cell_type": "code",
   "execution_count": null,
   "metadata": {
    "collapsed": false
   },
   "outputs": [],
   "source": []
  },
  {
   "cell_type": "code",
   "execution_count": 19,
   "metadata": {
    "collapsed": false
   },
   "outputs": [
    {
     "data": {
      "text/plain": [
       "(429,)"
      ]
     },
     "execution_count": 19,
     "metadata": {},
     "output_type": "execute_result"
    }
   ],
   "source": [
    "Y_train[Y_train > 0.].shape"
   ]
  },
  {
   "cell_type": "code",
   "execution_count": 18,
   "metadata": {
    "collapsed": false
   },
   "outputs": [
    {
     "name": "stdout",
     "output_type": "stream",
     "text": [
      "[ 0.96823923  0.93336205  0.99424614  0.93527103  0.98555257  0.93112327\n",
      "  0.98957391  0.95368841  0.97069835  0.97938903  0.98656789  0.92627413\n",
      "  0.9491366   0.97367457  0.98957391  0.97367457  0.91934081  0.9470079\n",
      "  0.99424614  0.97938903  0.98957391  0.97367457  0.9509652   0.9887183\n",
      "  0.95949401  0.92972366  0.96823923  0.94915782  0.97686972  0.96433758\n",
      "  0.98496332  0.98656789  0.93589142  0.96656165  0.94107823  0.9470789\n",
      "  0.9772451   0.9509652   0.94915782  0.96433758  0.93801226]\n"
     ]
    },
    {
     "data": {
      "image/png": "[encoded data removed]",
      "text/plain": [
       "<matplotlib.figure.Figure at 0x7f13770ef090>"
      ]
     },
     "metadata": {},
     "output_type": "display_data"
    }
   ],
   "source": [
    "import numpy as np\n",
    "import scipy.stats as stats\n",
    "\n",
    "import matplotlib\n",
    "matplotlib.use('Agg')\n",
    "from matplotlib import pyplot as plt\n",
    "\n",
    "outputURL = '/global/homes/s/ssingh79/convolutional_autoencoder-master/output_files/'\n",
    "foldername = 'Supervised_CNN'\n",
    "softmax_fname = '/softmax_probability.npz'\n",
    "\n",
    "softmax_fpath = outputURL + foldername + softmax_fname\n",
    "\n",
    "with np.load(softmax_fpath) as f:\n",
    "    softmax_prob = [f['arr_%d' % i] for i in range(len(f.files))]\n",
    "\n",
    "softmax_prob = softmax_prob[0]\n",
    "#print(softmax_prob)\n",
    "theoret_model_1 = softmax_prob[:,0]\n",
    "th_plot_1 = theoret_model_1[theoret_model_1>0.5]\n",
    "print(th_plot_1)\n",
    "\n",
    "%matplotlib inline\n",
    "#plt.hist(th_plot_1, bins=20)\n",
    "\n",
    "kde = stats.gaussian_kde()\n",
    "y = kde(th_plot_1)\n",
    "\n",
    "theoret_model_2 = softmax_prob[:,1]\n",
    "    "
   ]
  },
  {
   "cell_type": "code",
   "execution_count": null,
   "metadata": {
    "collapsed": false
   },
   "outputs": [],
   "source": []
  },
  {
   "cell_type": "code",
   "execution_count": null,
   "metadata": {
    "collapsed": true
   },
   "outputs": [],
   "source": []
  }
 ],
 "metadata": {
  "kernelspec": {
   "display_name": "deeplearning",
   "language": "python",
   "name": "deeplearning"
  },
  "language_info": {
   "codemirror_mode": {
    "name": "ipython",
    "version": 2
   },
   "file_extension": ".py",
   "mimetype": "text/x-python",
   "name": "python",
   "nbconvert_exporter": "python",
   "pygments_lexer": "ipython2",
   "version": "2.7.12"
  }
 },
 "nbformat": 4,
 "nbformat_minor": 0
}
