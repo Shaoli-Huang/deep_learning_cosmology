{
 "cells": [
  {
   "cell_type": "code",
   "execution_count": 3,
   "metadata": {
    "collapsed": false
   },
   "outputs": [],
   "source": [
    "import sys\n",
    "import numpy as np\n",
    "import h5py\n",
    "import matplotlib.pyplot as plt\n",
    "sys.path.insert(0,'/global/common/cori/software/theano/0.8.2/lib/python2.7/site-packages/')\n",
    "import theano\n",
    "sys.path.insert(0,'/global/common/cori/software/lasagne/0.1/lib/python2.7/site-packages/')\n",
    "import lasagne\n",
    "sys.path.insert(0,'/global/common/cori/software/nolearn/0.6/')\n",
    "import nolearn\n",
    "\n",
    "from nolearn.lasagne.visualize import plot_loss\n",
    "\n",
    "\n",
    "def plot_historgram():\n",
    "    # Here we plot the histogram of normalized images\n",
    "    print('')\n",
    "    \n",
    "def visualize_weights():\n",
    "    # Visualize weights learnt by the model\n",
    "    print('')\n",
    "    \n",
    "def visualize_resconstruct():\n",
    "    # Plot the reconstructed images\n",
    "    print('')\n",
    "    \n",
    "def get_learning_curve():\n",
    "    # Here we plot the learning curve for the training epochs\n",
    "    print('')\n",
    "\n",
    "    \n",
    "    "
   ]
  },
  {
   "cell_type": "code",
   "execution_count": null,
   "metadata": {
    "collapsed": true
   },
   "outputs": [],
   "source": []
  }
 ],
 "metadata": {
  "kernelspec": {
   "display_name": "Python 3",
   "language": "python",
   "name": "python3"
  },
  "language_info": {
   "codemirror_mode": {
    "name": "ipython",
    "version": 3
   },
   "file_extension": ".py",
   "mimetype": "text/x-python",
   "name": "python",
   "nbconvert_exporter": "python",
   "pygments_lexer": "ipython3",
   "version": "3.5.1"
  }
 },
 "nbformat": 4,
 "nbformat_minor": 0
}
