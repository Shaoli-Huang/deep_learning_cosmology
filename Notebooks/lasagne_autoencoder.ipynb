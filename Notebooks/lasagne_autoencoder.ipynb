{
 "cells": [
  {
   "cell_type": "code",
   "execution_count": null,
   "metadata": {
    "collapsed": false
   },
   "outputs": [
    {
     "name": "stdout",
     "output_type": "stream",
     "text": [
      "... loading data\n",
      "Calling  segment128_data.h5 ......\n",
      "Printing Train set  [[ 0.07137257  0.30928497  0.29827089 ...,  0.18230421  0.14637361\n",
      "   0.15919079]\n",
      " [ 0.07261577  0.17558717  0.20363968 ...,  0.0669994   0.09018772\n",
      "   0.0591026 ]\n",
      " [ 0.13344094  0.47484278  0.41672827 ...,  0.20851207  0.14027942\n",
      "   0.13089442]\n",
      " ..., \n",
      " [ 0.07298076  0.1915159   0.17968826 ...,  0.22934989  0.14364741\n",
      "   0.13065976]\n",
      " [ 0.06373761  0.26115087  0.3418177  ...,  0.1024105   0.12914529\n",
      "   0.13198031]\n",
      " [ 0.0415752   0.15119068  0.13141891 ...,  0.13405803  0.11238554\n",
      "   0.17102517]]\n",
      "X_train shape  1000\n"
     ]
    }
   ],
   "source": [
    "import numpy as np \n",
    "import os\n",
    "import h5py\n",
    "import sys\n",
    "sys.path.insert(0,'/global/common/cori/software/theano/0.8.2/lib/python2.7/site-packages/')\n",
    "import theano\n",
    "import theano.tensor as T\n",
    "sys.path.insert(0,'/global/common/cori/software/lasagne/0.1/lib/python2.7/site-packages/')\n",
    "\n",
    "import lasagne\n",
    "from lasagne import layers\n",
    "from lasagne.layers import get_output, InputLayer, DenseLayer\n",
    "from lasagne.nonlinearities import rectify, leaky_rectify, tanh\n",
    "from lasagne.updates import nesterov_momentum\n",
    "from lasagne.objectives import squared_error\n",
    "\n",
    "sys.path.insert(0,'/global/common/cori/software/nolearn/0.6/')\n",
    "import nolearn\n",
    "from nolearn.lasagne import NeuralNet\n",
    "\n",
    "#from nolearn.lasagne.visualize import plot_loss\n",
    "from IPython.display import Image as IPImage\n",
    "from PIL import Image\n",
    "\n",
    "def load_data():\n",
    "\n",
    "    # Load the dataset\n",
    "    \n",
    "    # Here we give different data sets for the autoencoders\n",
    "    dataurl = '/global/homes/s/ssingh79/data/'\n",
    "    #hdf5file = 'conv_z02.h5'\n",
    "    hdf5file = 'segment128_data.h5'\n",
    "    filepath = os.path.join(dataurl, hdf5file)\n",
    "    \n",
    "    print(\"Calling \", hdf5file, \"......\")\n",
    "    # Call the load_data method to get back the Final training set. \n",
    "    dataset = filepath\n",
    "    \n",
    "    with h5py.File(dataset,'r') as hf: \n",
    "        #train_set = hf['X_train'][0:1000,0:65536] \n",
    "        train_set = hf['data_mean_diff_min'][0:1000,0:16384]\n",
    "        print(\"Printing Train set \", train_set) \n",
    "        print(\"X_train shape \", train_set.shape[0])\n",
    "        \n",
    "    return train_set\n",
    "        \n",
    "def build_autoencoder(input_var=None):\n",
    "    \n",
    "    print('... loading data')\n",
    "    X_train = load_data()\n",
    "    \n",
    "    #l_in = lasagne.layers.InputLayer((1000,128*128),)\n",
    "    #l_hidden = lasagne.layers.DenseLayer(l_in,num_units=8000, nonlinearity=lasagne.nonlinearities.sigmoid, W=lasagne.init.GlorotUniform())\n",
    "    #l_out = lasagne.layers.DenseLayer(l_hidden,num_units=128*128)    \n",
    "    \n",
    "    \n",
    "    print(\"Start Training...........\")\n",
    "    \n",
    "    ae = NeuralNet(layers = [\n",
    "            (InputLayer, {'shape':(None, 128*128)}),\n",
    "            (DenseLayer, {'num_units': 8000, 'W': lasagne.init.GlorotUniform(), 'b':lasagne.init.Constant(0.), 'nonlinearity':lasagne.nonlinearities.tanh }),\n",
    "            (DenseLayer, {'num_units': 128*128, 'nonlinearity':lasagne.nonlinearities.tanh}),\n",
    "            ],\n",
    "            #input_shape = (None, 128*128),\n",
    "            #hidden_num_units=8000,  # number of units in 'hidden' layer\n",
    "            #output_nonlinearity=lasagne.nonlinearities.tanh,\n",
    "            #output_num_units=128*128,  # 10 target values for the digits 0, 1, 2, ..., 9\n",
    "\n",
    "            # optimization method:\n",
    "            update=nesterov_momentum,\n",
    "            update_learning_rate=0.01,\n",
    "            update_momentum=0.9,\n",
    "            \n",
    "            train_split = None\n",
    "            objective = lasagne.objectives.squared_error\n",
    "                   \n",
    "            max_epochs=50,\n",
    "            verbose=1,           \n",
    "        )\n",
    "    \n",
    "    ae.fit(X_train,X_train)\n",
    "    \n",
    "    print(ae)\n",
    "    \n",
    "    # Save the model ae in hdf5 file.\n",
    "    \n",
    "    \n",
    "    # Plot the learning curve.\n",
    "    #plot_loss(ae)\n",
    "        \n",
    "def main():\n",
    "    \n",
    "    \n",
    "    input_var = T.tensor4('inputs')\n",
    "    network = build_autoencoder(input_var)\n",
    "    \n",
    "    prediction = lasagne.layers.get_output(network)\n",
    "    loss = lasagne.objectives.binary_crossentropy(prediction, input_var)\n",
    "    \n",
    "    loss = loss.mean()\n",
    "    \n",
    "    params = lasagne.layers.get_all_params(network, trainable= True)\n",
    "    updates = lasagne.updates.sgd(loss, params, learning_rate=0.01)\n",
    "    \n",
    "    train_fn = theano.function([input_var],loss, updates=updates)\n",
    "    \n",
    "    \n",
    "build_autoencoder()\n",
    "    \n",
    "\n",
    "\n",
    "\n"
   ]
  },
  {
   "cell_type": "code",
   "execution_count": 1,
   "metadata": {
    "collapsed": false
   },
   "outputs": [
    {
     "data": {
      "text/plain": [
       "['',\n",
       " '/usr/local/src/jupyterhub',\n",
       " '/anaconda3/lib/python35.zip',\n",
       " '/anaconda3/lib/python3.5',\n",
       " '/anaconda3/lib/python3.5/plat-linux',\n",
       " '/anaconda3/lib/python3.5/lib-dynload',\n",
       " '/anaconda3/lib/python3.5/site-packages/Sphinx-1.4.1-py3.5.egg',\n",
       " '/anaconda3/lib/python3.5/site-packages/setuptools-20.7.0-py3.5.egg',\n",
       " '/anaconda3/lib/python3.5/site-packages',\n",
       " '/anaconda3/lib/python3.5/site-packages/IPython/extensions',\n",
       " '/global/u1/s/ssingh79/.ipython']"
      ]
     },
     "execution_count": 1,
     "metadata": {},
     "output_type": "execute_result"
    }
   ],
   "source": [
    "import sys\n",
    "sys.path"
   ]
  },
  {
   "cell_type": "code",
   "execution_count": null,
   "metadata": {
    "collapsed": true
   },
   "outputs": [],
   "source": []
  }
 ],
 "metadata": {
  "kernelspec": {
   "display_name": "Python 3",
   "language": "python",
   "name": "python3"
  },
  "language_info": {
   "codemirror_mode": {
    "name": "ipython",
    "version": 3
   },
   "file_extension": ".py",
   "mimetype": "text/x-python",
   "name": "python",
   "nbconvert_exporter": "python",
   "pygments_lexer": "ipython3",
   "version": "3.5.1"
  }
 },
 "nbformat": 4,
 "nbformat_minor": 0
}
